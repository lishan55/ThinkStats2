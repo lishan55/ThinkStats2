{
 "cells": [
  {
   "cell_type": "markdown",
   "metadata": {},
   "source": [
    "# Examples and Exercises from Think Stats, 2nd Edition\n",
    "\n",
    "http://thinkstats2.com\n",
    "\n",
    "Copyright 2016 Allen B. Downey\n",
    "\n",
    "MIT License: https://opensource.org/licenses/MIT\n"
   ]
  },
  {
   "cell_type": "code",
   "execution_count": 1,
   "metadata": {
    "collapsed": false
   },
   "outputs": [],
   "source": [
    "from __future__ import print_function, division\n",
    "\n",
    "%matplotlib inline\n",
    "\n",
    "import numpy as np\n",
    "\n",
    "import nsfg\n",
    "import first\n",
    "import thinkstats2\n",
    "import thinkplot"
   ]
  },
  {
   "cell_type": "markdown",
   "metadata": {},
   "source": [
    "Again, I'll load the NSFG pregnancy file and select live births:"
   ]
  },
  {
   "cell_type": "code",
   "execution_count": 2,
   "metadata": {
    "collapsed": false
   },
   "outputs": [],
   "source": [
    "preg = nsfg.ReadFemPreg()\n",
    "live = preg[preg.outcome == 1]"
   ]
  },
  {
   "cell_type": "markdown",
   "metadata": {},
   "source": [
    "Here's the histogram of birth weights:"
   ]
  },
  {
   "cell_type": "code",
   "execution_count": 3,
   "metadata": {
    "collapsed": false
   },
   "outputs": [
    {
     "data": {
      "image/png": "[encoded data removed]",
      "text/plain": [
       "<matplotlib.figure.Figure at 0x11ac42790>"
      ]
     },
     "metadata": {},
     "output_type": "display_data"
    }
   ],
   "source": [
    "hist = thinkstats2.Hist(live.birthwgt_lb, label='birthwgt_lb')\n",
    "thinkplot.Hist(hist)\n",
    "thinkplot.Config(xlabel='Birth weight (pounds)', ylabel='Count')"
   ]
  },
  {
   "cell_type": "markdown",
   "metadata": {},
   "source": [
    "To normalize the disrtibution, we could divide through by the total count:"
   ]
  },
  {
   "cell_type": "code",
   "execution_count": 4,
   "metadata": {
    "collapsed": false
   },
   "outputs": [],
   "source": [
    "n = hist.Total()\n",
    "pmf = hist.Copy()\n",
    "for x, freq in hist.Items():\n",
    "    pmf[x] = freq / n"
   ]
  },
  {
   "cell_type": "markdown",
   "metadata": {},
   "source": [
    "The result is a Probability Mass Function (PMF)."
   ]
  },
  {
   "cell_type": "code",
   "execution_count": 5,
   "metadata": {
    "collapsed": false
   },
   "outputs": [
    {
     "data": {
      "image/png": "[encoded data removed]",
      "text/plain": [
       "<matplotlib.figure.Figure at 0x11bdc8a90>"
      ]
     },
     "metadata": {},
     "output_type": "display_data"
    }
   ],
   "source": [
    "thinkplot.Hist(pmf)\n",
    "thinkplot.Config(xlabel='Birth weight (pounds)', ylabel='PMF')"
   ]
  },
  {
   "cell_type": "markdown",
   "metadata": {},
   "source": [
    "More directly, we can create a Pmf object."
   ]
  },
  {
   "cell_type": "code",
   "execution_count": 6,
   "metadata": {
    "collapsed": false
   },
   "outputs": [
    {
     "data": {
      "text/plain": [
       "Pmf({1: 0.2, 2: 0.4, 3: 0.2, 5: 0.2})"
      ]
     },
     "execution_count": 6,
     "metadata": {},
     "output_type": "execute_result"
    }
   ],
   "source": [
    "pmf = thinkstats2.Pmf([1, 2, 2, 3, 5])\n",
    "pmf"
   ]
  },
  {
   "cell_type": "markdown",
   "metadata": {},
   "source": [
    "`Pmf` provides `Prob`, which looks up a value and returns its probability:"
   ]
  },
  {
   "cell_type": "code",
   "execution_count": 7,
   "metadata": {
    "collapsed": false
   },
   "outputs": [
    {
     "data": {
      "text/plain": [
       "0.4"
      ]
     },
     "execution_count": 7,
     "metadata": {},
     "output_type": "execute_result"
    }
   ],
   "source": [
    "pmf.Prob(2)"
   ]
  },
  {
   "cell_type": "markdown",
   "metadata": {},
   "source": [
    "The bracket operator does the same thing."
   ]
  },
  {
   "cell_type": "code",
   "execution_count": 8,
   "metadata": {
    "collapsed": false
   },
   "outputs": [
    {
     "data": {
      "text/plain": [
       "0.4"
      ]
     },
     "execution_count": 8,
     "metadata": {},
     "output_type": "execute_result"
    }
   ],
   "source": [
    "pmf[2]"
   ]
  },
  {
   "cell_type": "markdown",
   "metadata": {},
   "source": [
    "The `Incr` method adds to the probability associated with a given values."
   ]
  },
  {
   "cell_type": "code",
   "execution_count": 9,
   "metadata": {
    "collapsed": false
   },
   "outputs": [
    {
     "data": {
      "text/plain": [
       "0.6000000000000001"
      ]
     },
     "execution_count": 9,
     "metadata": {},
     "output_type": "execute_result"
    }
   ],
   "source": [
    "pmf.Incr(2, 0.2)\n",
    "pmf[2]"
   ]
  },
  {
   "cell_type": "markdown",
   "metadata": {},
   "source": [
    "The `Mult` method multiplies the probability associated with a value."
   ]
  },
  {
   "cell_type": "code",
   "execution_count": 10,
   "metadata": {
    "collapsed": false
   },
   "outputs": [
    {
     "data": {
      "text/plain": [
       "0.30000000000000004"
      ]
     },
     "execution_count": 10,
     "metadata": {},
     "output_type": "execute_result"
    }
   ],
   "source": [
    "pmf.Mult(2, 0.5)\n",
    "pmf[2]"
   ]
  },
  {
   "cell_type": "markdown",
   "metadata": {},
   "source": [
    "`Total` returns the total probability (which is no longer 1, because we changed one of the probabilities)."
   ]
  },
  {
   "cell_type": "code",
   "execution_count": 11,
   "metadata": {
    "collapsed": false
   },
   "outputs": [
    {
     "data": {
      "text/plain": [
       "0.8999999999999999"
      ]
     },
     "execution_count": 11,
     "metadata": {},
     "output_type": "execute_result"
    }
   ],
   "source": [
    "pmf.Total()"
   ]
  },
  {
   "cell_type": "markdown",
   "metadata": {},
   "source": [
    "`Normalize` divides through by the total probability, making it 1 again."
   ]
  },
  {
   "cell_type": "code",
   "execution_count": 12,
   "metadata": {
    "collapsed": false
   },
   "outputs": [
    {
     "data": {
      "text/plain": [
       "1.0"
      ]
     },
     "execution_count": 12,
     "metadata": {},
     "output_type": "execute_result"
    }
   ],
   "source": [
    "pmf.Normalize()\n",
    "pmf.Total()"
   ]
  },
  {
   "cell_type": "markdown",
   "metadata": {},
   "source": [
    "Here's the PMF of pregnancy length for live births."
   ]
  },
  {
   "cell_type": "code",
   "execution_count": 13,
   "metadata": {
    "collapsed": false
   },
   "outputs": [],
   "source": [
    "pmf = thinkstats2.Pmf(live.prglngth, label='prglngth')"
   ]
  },
  {
   "cell_type": "markdown",
   "metadata": {},
   "source": [
    "Here's what it looks like plotted with `Hist`, which makes a bar graph."
   ]
  },
  {
   "cell_type": "code",
   "execution_count": 14,
   "metadata": {
    "collapsed": false
   },
   "outputs": [
    {
     "data": {
      "image/png": "[encoded data removed]",
      "text/plain": [
       "<matplotlib.figure.Figure at 0x11bc63f90>"
      ]
     },
     "metadata": {},
     "output_type": "display_data"
    }
   ],
   "source": [
    "thinkplot.Hist(pmf)\n",
    "thinkplot.Config(xlabel='Pregnancy length (weeks)', ylabel='Pmf')"
   ]
  },
  {
   "cell_type": "markdown",
   "metadata": {},
   "source": [
    "Here's what it looks like plotted with `Pmf`, which makes a step function."
   ]
  },
  {
   "cell_type": "code",
   "execution_count": 15,
   "metadata": {
    "collapsed": false
   },
   "outputs": [
    {
     "data": {
      "image/png": "[encoded data removed]",
      "text/plain": [
       "<matplotlib.figure.Figure at 0x11b703450>"
      ]
     },
     "metadata": {},
     "output_type": "display_data"
    }
   ],
   "source": [
    "thinkplot.Pmf(pmf)\n",
    "thinkplot.Config(xlabel='Pregnancy length (weeks)', ylabel='Pmf')"
   ]
  },
  {
   "cell_type": "markdown",
   "metadata": {},
   "source": [
    "We can use `MakeFrames` to return DataFrames for all live births, first babies, and others."
   ]
  },
  {
   "cell_type": "code",
   "execution_count": 16,
   "metadata": {
    "collapsed": true
   },
   "outputs": [],
   "source": [
    "live, firsts, others = first.MakeFrames()"
   ]
  },
  {
   "cell_type": "markdown",
   "metadata": {},
   "source": [
    "Here are the distributions of pregnancy length."
   ]
  },
  {
   "cell_type": "code",
   "execution_count": 17,
   "metadata": {
    "collapsed": true
   },
   "outputs": [],
   "source": [
    "first_pmf = thinkstats2.Pmf(firsts.prglngth, label='firsts')\n",
    "other_pmf = thinkstats2.Pmf(others.prglngth, label='others')"
   ]
  },
  {
   "cell_type": "markdown",
   "metadata": {},
   "source": [
    "And here's the code that replicates one of the figures in the chapter."
   ]
  },
  {
   "cell_type": "code",
   "execution_count": 18,
   "metadata": {
    "collapsed": false
   },
   "outputs": [
    {
     "data": {
      "image/png": "[encoded data removed]",
      "text/plain": [
       "<matplotlib.figure.Figure at 0x11b71a310>"
      ]
     },
     "metadata": {},
     "output_type": "display_data"
    }
   ],
   "source": [
    "width=0.45\n",
    "axis = [27, 46, 0, 0.6]\n",
    "thinkplot.PrePlot(2, cols=2)\n",
    "thinkplot.Hist(first_pmf, align='right', width=width)\n",
    "thinkplot.Hist(other_pmf, align='left', width=width)\n",
    "thinkplot.Config(xlabel='Pregnancy length(weeks)', ylabel='PMF', axis=axis)\n",
    "\n",
    "thinkplot.PrePlot(2)\n",
    "thinkplot.SubPlot(2)\n",
    "thinkplot.Pmfs([first_pmf, other_pmf])\n",
    "thinkplot.Config(xlabel='Pregnancy length(weeks)', axis=axis)"
   ]
  },
  {
   "cell_type": "markdown",
   "metadata": {},
   "source": [
    "Here's the code that generates a plot of the difference in probability (in percentage points) between first babies and others, for each week of pregnancy (showing only pregnancies considered \"full term\"). "
   ]
  },
  {
   "cell_type": "code",
   "execution_count": 19,
   "metadata": {
    "collapsed": false
   },
   "outputs": [
    {
     "data": {
      "image/png": "[encoded data removed]",
      "text/plain": [
       "<matplotlib.figure.Figure at 0x11bca9b10>"
      ]
     },
     "metadata": {},
     "output_type": "display_data"
    }
   ],
   "source": [
    "weeks = range(35, 46)\n",
    "diffs = []\n",
    "for week in weeks:\n",
    "    p1 = first_pmf.Prob(week)\n",
    "    p2 = other_pmf.Prob(week)\n",
    "    diff = 100 * (p1 - p2)\n",
    "    diffs.append(diff)\n",
    "\n",
    "thinkplot.Bar(weeks, diffs)\n",
    "thinkplot.Config(xlabel='Pregnancy length(weeks)', ylabel='Difference (percentage points)')\n"
   ]
  },
  {
   "cell_type": "markdown",
   "metadata": {},
   "source": [
    "### Biasing and unbiasing PMFs\n",
    "\n",
    "Here's the example in the book showing operations we can perform with `Pmf` objects.\n",
    "\n",
    "Suppose we have the following distribution of class sizes."
   ]
  },
  {
   "cell_type": "code",
   "execution_count": 20,
   "metadata": {
    "collapsed": false
   },
   "outputs": [],
   "source": [
    "d = { 7: 8, 12: 8, 17: 14, 22: 4, \n",
    "     27: 6, 32: 12, 37: 8, 42: 3, 47: 2 }\n",
    "\n",
    "pmf = thinkstats2.Pmf(d, label='actual')"
   ]
  },
  {
   "cell_type": "markdown",
   "metadata": {},
   "source": [
    "This function computes the biased PMF we would get if we surveyed students and asked about the size of the classes they are in."
   ]
  },
  {
   "cell_type": "code",
   "execution_count": 21,
   "metadata": {
    "collapsed": true
   },
   "outputs": [],
   "source": [
    "def BiasPmf(pmf, label):\n",
    "    new_pmf = pmf.Copy(label=label)\n",
    "\n",
    "    for x, p in pmf.Items():\n",
    "        new_pmf.Mult(x, x)\n",
    "        \n",
    "    new_pmf.Normalize()\n",
    "    return new_pmf"
   ]
  },
  {
   "cell_type": "markdown",
   "metadata": {},
   "source": [
    "The following graph shows the difference between the actual and observed distributions."
   ]
  },
  {
   "cell_type": "code",
   "execution_count": 22,
   "metadata": {
    "collapsed": false
   },
   "outputs": [
    {
     "data": {
      "image/png": "[encoded data removed]",
      "text/plain": [
       "<matplotlib.figure.Figure at 0x11be4b110>"
      ]
     },
     "metadata": {},
     "output_type": "display_data"
    }
   ],
   "source": [
    "biased_pmf = BiasPmf(pmf, label='observed')\n",
    "thinkplot.PrePlot(2)\n",
    "thinkplot.Pmfs([pmf, biased_pmf])\n",
    "thinkplot.Config(xlabel='Class size', ylabel='PMF')"
   ]
  },
  {
   "cell_type": "markdown",
   "metadata": {},
   "source": [
    "The observed mean is substantially higher than the actual."
   ]
  },
  {
   "cell_type": "code",
   "execution_count": 23,
   "metadata": {
    "collapsed": false
   },
   "outputs": [
    {
     "name": "stdout",
     "output_type": "stream",
     "text": [
      "Actual mean 23.6923076923\n",
      "Observed mean 29.1233766234\n"
     ]
    }
   ],
   "source": [
    "print('Actual mean', pmf.Mean())\n",
    "print('Observed mean', biased_pmf.Mean())"
   ]
  },
  {
   "cell_type": "markdown",
   "metadata": {},
   "source": [
    "If we were only able to collect the biased sample, we could \"unbias\" it by applying the inverse operation."
   ]
  },
  {
   "cell_type": "code",
   "execution_count": 24,
   "metadata": {
    "collapsed": true
   },
   "outputs": [],
   "source": [
    "def UnbiasPmf(pmf, label=None):\n",
    "    new_pmf = pmf.Copy(label=label)\n",
    "\n",
    "    for x, p in pmf.Items():\n",
    "        new_pmf[x] *= 1/x\n",
    "        \n",
    "    new_pmf.Normalize()\n",
    "    return new_pmf"
   ]
  },
  {
   "cell_type": "markdown",
   "metadata": {},
   "source": [
    "We can unbias the biased PMF:"
   ]
  },
  {
   "cell_type": "code",
   "execution_count": 25,
   "metadata": {
    "collapsed": false
   },
   "outputs": [
    {
     "name": "stdout",
     "output_type": "stream",
     "text": [
      "Unbiased mean 23.6923076923\n"
     ]
    }
   ],
   "source": [
    "unbiased = UnbiasPmf(biased_pmf, label='unbiased')\n",
    "print('Unbiased mean', unbiased.Mean())"
   ]
  },
  {
   "cell_type": "markdown",
   "metadata": {},
   "source": [
    "And plot the two distributions to confirm they are the same."
   ]
  },
  {
   "cell_type": "code",
   "execution_count": 26,
   "metadata": {
    "collapsed": false
   },
   "outputs": [
    {
     "data": {
      "image/png": "[encoded data removed]",
      "text/plain": [
       "<matplotlib.figure.Figure at 0x11b87ab90>"
      ]
     },
     "metadata": {},
     "output_type": "display_data"
    }
   ],
   "source": [
    "thinkplot.PrePlot(2)\n",
    "thinkplot.Pmfs([pmf, unbiased])\n",
    "thinkplot.Config(xlabel='Class size', ylabel='PMF')"
   ]
  },
  {
   "cell_type": "markdown",
   "metadata": {},
   "source": [
    "### Pandas indexing\n",
    "\n",
    "Here's an example of a small DataFrame."
   ]
  },
  {
   "cell_type": "code",
   "execution_count": 27,
   "metadata": {
    "collapsed": false
   },
   "outputs": [
    {
     "data": {
      "text/html": [
       "<div>\n",
       "<table border=\"1\" class=\"dataframe\">\n",
       "  <thead>\n",
       "    <tr style=\"text-align: right;\">\n",
       "      <th></th>\n",
       "      <th>0</th>\n",
       "      <th>1</th>\n",
       "    </tr>\n",
       "  </thead>\n",
       "  <tbody>\n",
       "    <tr>\n",
       "      <th>0</th>\n",
       "      <td>0.398245</td>\n",
       "      <td>-0.169457</td>\n",
       "    </tr>\n",
       "    <tr>\n",
       "      <th>1</th>\n",
       "      <td>0.385618</td>\n",
       "      <td>0.792596</td>\n",
       "    </tr>\n",
       "    <tr>\n",
       "      <th>2</th>\n",
       "      <td>-0.433191</td>\n",
       "      <td>1.490430</td>\n",
       "    </tr>\n",
       "    <tr>\n",
       "      <th>3</th>\n",
       "      <td>-0.631534</td>\n",
       "      <td>0.937255</td>\n",
       "    </tr>\n",
       "  </tbody>\n",
       "</table>\n",
       "</div>"
      ],
      "text/plain": [
       "          0         1\n",
       "0  0.398245 -0.169457\n",
       "1  0.385618  0.792596\n",
       "2 -0.433191  1.490430\n",
       "3 -0.631534  0.937255"
      ]
     },
     "execution_count": 27,
     "metadata": {},
     "output_type": "execute_result"
    }
   ],
   "source": [
    "import numpy as np\n",
    "import pandas\n",
    "array = np.random.randn(4, 2)\n",
    "df = pandas.DataFrame(array)\n",
    "df"
   ]
  },
  {
   "cell_type": "markdown",
   "metadata": {},
   "source": [
    "We can specify column names when we create the DataFrame:"
   ]
  },
  {
   "cell_type": "code",
   "execution_count": 28,
   "metadata": {
    "collapsed": false
   },
   "outputs": [
    {
     "data": {
      "text/html": [
       "<div>\n",
       "<table border=\"1\" class=\"dataframe\">\n",
       "  <thead>\n",
       "    <tr style=\"text-align: right;\">\n",
       "      <th></th>\n",
       "      <th>A</th>\n",
       "      <th>B</th>\n",
       "    </tr>\n",
       "  </thead>\n",
       "  <tbody>\n",
       "    <tr>\n",
       "      <th>0</th>\n",
       "      <td>0.398245</td>\n",
       "      <td>-0.169457</td>\n",
       "    </tr>\n",
       "    <tr>\n",
       "      <th>1</th>\n",
       "      <td>0.385618</td>\n",
       "      <td>0.792596</td>\n",
       "    </tr>\n",
       "    <tr>\n",
       "      <th>2</th>\n",
       "      <td>-0.433191</td>\n",
       "      <td>1.490430</td>\n",
       "    </tr>\n",
       "    <tr>\n",
       "      <th>3</th>\n",
       "      <td>-0.631534</td>\n",
       "      <td>0.937255</td>\n",
       "    </tr>\n",
       "  </tbody>\n",
       "</table>\n",
       "</div>"
      ],
      "text/plain": [
       "          A         B\n",
       "0  0.398245 -0.169457\n",
       "1  0.385618  0.792596\n",
       "2 -0.433191  1.490430\n",
       "3 -0.631534  0.937255"
      ]
     },
     "execution_count": 28,
     "metadata": {},
     "output_type": "execute_result"
    }
   ],
   "source": [
    "columns = ['A', 'B']\n",
    "df = pandas.DataFrame(array, columns=columns)\n",
    "df"
   ]
  },
  {
   "cell_type": "markdown",
   "metadata": {},
   "source": [
    "We can also specify an index that contains labels for the rows."
   ]
  },
  {
   "cell_type": "code",
   "execution_count": 29,
   "metadata": {
    "collapsed": false
   },
   "outputs": [
    {
     "data": {
      "text/html": [
       "<div>\n",
       "<table border=\"1\" class=\"dataframe\">\n",
       "  <thead>\n",
       "    <tr style=\"text-align: right;\">\n",
       "      <th></th>\n",
       "      <th>A</th>\n",
       "      <th>B</th>\n",
       "    </tr>\n",
       "  </thead>\n",
       "  <tbody>\n",
       "    <tr>\n",
       "      <th>a</th>\n",
       "      <td>0.398245</td>\n",
       "      <td>-0.169457</td>\n",
       "    </tr>\n",
       "    <tr>\n",
       "      <th>b</th>\n",
       "      <td>0.385618</td>\n",
       "      <td>0.792596</td>\n",
       "    </tr>\n",
       "    <tr>\n",
       "      <th>c</th>\n",
       "      <td>-0.433191</td>\n",
       "      <td>1.490430</td>\n",
       "    </tr>\n",
       "    <tr>\n",
       "      <th>d</th>\n",
       "      <td>-0.631534</td>\n",
       "      <td>0.937255</td>\n",
       "    </tr>\n",
       "  </tbody>\n",
       "</table>\n",
       "</div>"
      ],
      "text/plain": [
       "          A         B\n",
       "a  0.398245 -0.169457\n",
       "b  0.385618  0.792596\n",
       "c -0.433191  1.490430\n",
       "d -0.631534  0.937255"
      ]
     },
     "execution_count": 29,
     "metadata": {},
     "output_type": "execute_result"
    }
   ],
   "source": [
    "index = ['a', 'b', 'c', 'd']\n",
    "df = pandas.DataFrame(array, columns=columns, index=index)\n",
    "df"
   ]
  },
  {
   "cell_type": "markdown",
   "metadata": {},
   "source": [
    "Normal indexing selects columns."
   ]
  },
  {
   "cell_type": "code",
   "execution_count": 30,
   "metadata": {
    "collapsed": false
   },
   "outputs": [
    {
     "data": {
      "text/plain": [
       "a    0.398245\n",
       "b    0.385618\n",
       "c   -0.433191\n",
       "d   -0.631534\n",
       "Name: A, dtype: float64"
      ]
     },
     "execution_count": 30,
     "metadata": {},
     "output_type": "execute_result"
    }
   ],
   "source": [
    "df['A']"
   ]
  },
  {
   "cell_type": "markdown",
   "metadata": {},
   "source": [
    "We can use the `loc` attribute to select rows."
   ]
  },
  {
   "cell_type": "code",
   "execution_count": 31,
   "metadata": {
    "collapsed": false
   },
   "outputs": [
    {
     "data": {
      "text/plain": [
       "A    0.398245\n",
       "B   -0.169457\n",
       "Name: a, dtype: float64"
      ]
     },
     "execution_count": 31,
     "metadata": {},
     "output_type": "execute_result"
    }
   ],
   "source": [
    "df.loc['a']"
   ]
  },
  {
   "cell_type": "markdown",
   "metadata": {},
   "source": [
    "If you don't want to use the row labels and prefer to access the rows using integer indices, you can use the `iloc` attribute:"
   ]
  },
  {
   "cell_type": "code",
   "execution_count": 32,
   "metadata": {
    "collapsed": false
   },
   "outputs": [
    {
     "data": {
      "text/plain": [
       "A    0.398245\n",
       "B   -0.169457\n",
       "Name: a, dtype: float64"
      ]
     },
     "execution_count": 32,
     "metadata": {},
     "output_type": "execute_result"
    }
   ],
   "source": [
    "df.iloc[0]"
   ]
  },
  {
   "cell_type": "markdown",
   "metadata": {},
   "source": [
    "`loc` can also take a list of labels."
   ]
  },
  {
   "cell_type": "code",
   "execution_count": 33,
   "metadata": {
    "collapsed": false
   },
   "outputs": [
    {
     "data": {
      "text/html": [
       "<div>\n",
       "<table border=\"1\" class=\"dataframe\">\n",
       "  <thead>\n",
       "    <tr style=\"text-align: right;\">\n",
       "      <th></th>\n",
       "      <th>A</th>\n",
       "      <th>B</th>\n",
       "    </tr>\n",
       "  </thead>\n",
       "  <tbody>\n",
       "    <tr>\n",
       "      <th>a</th>\n",
       "      <td>0.398245</td>\n",
       "      <td>-0.169457</td>\n",
       "    </tr>\n",
       "    <tr>\n",
       "      <th>c</th>\n",
       "      <td>-0.433191</td>\n",
       "      <td>1.490430</td>\n",
       "    </tr>\n",
       "  </tbody>\n",
       "</table>\n",
       "</div>"
      ],
      "text/plain": [
       "          A         B\n",
       "a  0.398245 -0.169457\n",
       "c -0.433191  1.490430"
      ]
     },
     "execution_count": 33,
     "metadata": {},
     "output_type": "execute_result"
    }
   ],
   "source": [
    "indices = ['a', 'c']\n",
    "df.loc[indices]"
   ]
  },
  {
   "cell_type": "markdown",
   "metadata": {},
   "source": [
    "If you provide a slice of labels, `DataFrame` uses it to select rows."
   ]
  },
  {
   "cell_type": "code",
   "execution_count": 34,
   "metadata": {
    "collapsed": false
   },
   "outputs": [
    {
     "data": {
      "text/html": [
       "<div>\n",
       "<table border=\"1\" class=\"dataframe\">\n",
       "  <thead>\n",
       "    <tr style=\"text-align: right;\">\n",
       "      <th></th>\n",
       "      <th>A</th>\n",
       "      <th>B</th>\n",
       "    </tr>\n",
       "  </thead>\n",
       "  <tbody>\n",
       "    <tr>\n",
       "      <th>a</th>\n",
       "      <td>0.398245</td>\n",
       "      <td>-0.169457</td>\n",
       "    </tr>\n",
       "    <tr>\n",
       "      <th>b</th>\n",
       "      <td>0.385618</td>\n",
       "      <td>0.792596</td>\n",
       "    </tr>\n",
       "    <tr>\n",
       "      <th>c</th>\n",
       "      <td>-0.433191</td>\n",
       "      <td>1.490430</td>\n",
       "    </tr>\n",
       "  </tbody>\n",
       "</table>\n",
       "</div>"
      ],
      "text/plain": [
       "          A         B\n",
       "a  0.398245 -0.169457\n",
       "b  0.385618  0.792596\n",
       "c -0.433191  1.490430"
      ]
     },
     "execution_count": 34,
     "metadata": {},
     "output_type": "execute_result"
    }
   ],
   "source": [
    "df['a':'c']"
   ]
  },
  {
   "cell_type": "markdown",
   "metadata": {},
   "source": [
    "If you provide a slice of integers, `DataFrame` selects rows by integer index."
   ]
  },
  {
   "cell_type": "code",
   "execution_count": 35,
   "metadata": {
    "collapsed": false
   },
   "outputs": [
    {
     "data": {
      "text/html": [
       "<div>\n",
       "<table border=\"1\" class=\"dataframe\">\n",
       "  <thead>\n",
       "    <tr style=\"text-align: right;\">\n",
       "      <th></th>\n",
       "      <th>A</th>\n",
       "      <th>B</th>\n",
       "    </tr>\n",
       "  </thead>\n",
       "  <tbody>\n",
       "    <tr>\n",
       "      <th>a</th>\n",
       "      <td>0.398245</td>\n",
       "      <td>-0.169457</td>\n",
       "    </tr>\n",
       "    <tr>\n",
       "      <th>b</th>\n",
       "      <td>0.385618</td>\n",
       "      <td>0.792596</td>\n",
       "    </tr>\n",
       "  </tbody>\n",
       "</table>\n",
       "</div>"
      ],
      "text/plain": [
       "          A         B\n",
       "a  0.398245 -0.169457\n",
       "b  0.385618  0.792596"
      ]
     },
     "execution_count": 35,
     "metadata": {},
     "output_type": "execute_result"
    }
   ],
   "source": [
    "df[0:2]"
   ]
  },
  {
   "cell_type": "markdown",
   "metadata": {},
   "source": [
    "But notice that one method includes the last elements of the slice and one does not.\n",
    "\n",
    "In general, I recommend giving labels to the rows and names to the columns, and using them consistently."
   ]
  },
  {
   "cell_type": "markdown",
   "metadata": {
    "collapsed": true
   },
   "source": [
    "## Exercises"
   ]
  },
  {
   "cell_type": "markdown",
   "metadata": {},
   "source": [
    "**Exercise:** Something like the class size paradox appears if you survey children and ask how many children are in their family. Families with many children are more likely to appear in your sample, and families with no children have no chance to be in the sample.\n",
    "\n",
    "Use the NSFG respondent variable `numkdhh` to construct the actual distribution for the number of children under 18 in the respondents' households.\n",
    "\n",
    "Now compute the biased distribution we would see if we surveyed the children and asked them how many children under 18 (including themselves) are in their household.\n",
    "\n",
    "Plot the actual and biased distributions, and compute their means."
   ]
  },
  {
   "cell_type": "code",
   "execution_count": 42,
   "metadata": {
    "collapsed": false
   },
   "outputs": [],
   "source": [
    "from __future__ import print_function, division\n",
    "\n",
    "%matplotlib inline\n",
    "\n",
    "import numpy as np\n",
    "\n",
    "import nsfg\n",
    "import first\n",
    "import thinkstats2\n",
    "import thinkplot"
   ]
  },
  {
   "cell_type": "code",
   "execution_count": 45,
   "metadata": {
    "collapsed": false
   },
   "outputs": [
    {
     "name": "stdout",
     "output_type": "stream",
     "text": [
      "Pmf({0: 0.46617820227659301, 1: 0.21405207379301322, 2: 0.19625801386889966, 3: 0.087138558157791451, 4: 0.025644380478869556, 5: 0.010728771424833181}) 1.02420515504\n"
     ]
    }
   ],
   "source": [
    "resp = nsfg.ReadFemResp()\n",
    "children = thinkstats2.Pmf(resp.numkdhh, label='actual')\n",
    "print (children,children.Mean())"
   ]
  },
  {
   "cell_type": "code",
   "execution_count": 46,
   "metadata": {
    "collapsed": false
   },
   "outputs": [
    {
     "name": "stdout",
     "output_type": "stream",
     "text": [
      "Pmf({0: 0.0, 1: 0.20899335717935616, 2: 0.38323965252938175, 3: 0.25523760858456823, 4: 0.10015329586101177, 5: 0.052376085845682166}) 1.02420515504\n"
     ]
    }
   ],
   "source": [
    "def biased (pmf, label):\n",
    "    new_pmf = pmf.Copy(label=label)\n",
    "    for num,prob in pmf.d.items():\n",
    "        new_pmf.Mult(num,num)\n",
    "    new_pmf.Normalize()\n",
    "    return new_pmf\n",
    "biased_children = biased(children,'observed')\n",
    "print(biased_children,children.Mean())"
   ]
  },
  {
   "cell_type": "code",
   "execution_count": 49,
   "metadata": {
    "collapsed": false
   },
   "outputs": [
    {
     "data": {
      "image/png": "[encoded data removed]",
      "text/plain": [
       "<matplotlib.figure.Figure at 0x124ab1710>"
      ]
     },
     "metadata": {},
     "output_type": "display_data"
    },
    {
     "data": {
      "text/plain": [
       "<matplotlib.figure.Figure at 0x11b7cc710>"
      ]
     },
     "metadata": {},
     "output_type": "display_data"
    }
   ],
   "source": [
    "thinkplot.PrePlot(2)\n",
    "thinkplot.Pmfs([children,biased_children])\n",
    "thinkplot.Show(xlabel='number of children in household',ylabel='PMF')"
   ]
  },
  {
   "cell_type": "markdown",
   "metadata": {
    "collapsed": false
   },
   "source": [
    "**Exercise:** I started this book with the question, \"Are first babies more likely to be late?\" To address it, I computed the difference in means between groups of babies, but I ignored the possibility that there might be a difference between first babies and others for the same woman.\n",
    "\n",
    "To address this version of the question, select respondents who have at least two live births and compute pairwise differences. Does this formulation of the question yield a different result?\n",
    "\n",
    "Hint: use `nsfg.MakePregMap`:"
   ]
  },
  {
   "cell_type": "code",
   "execution_count": 110,
   "metadata": {
    "collapsed": false
   },
   "outputs": [],
   "source": [
    "live, firsts, others = first.MakeFrames()"
   ]
  },
  {
   "cell_type": "code",
   "execution_count": 111,
   "metadata": {
    "collapsed": true
   },
   "outputs": [],
   "source": [
    "preg_map = nsfg.MakePregMap(live)\n",
    "firsts_map = nsfg.MakePregMap(firsts)\n",
    "others_map = nsfg.MakePregMap(others)"
   ]
  },
  {
   "cell_type": "code",
   "execution_count": 140,
   "metadata": {
    "collapsed": false
   },
   "outputs": [],
   "source": [
    "preg = nsfg.ReadFemPreg()\n",
    "caseid = preg[preg.outcome > 1].caseid"
   ]
  },
  {
   "cell_type": "code",
   "execution_count": 141,
   "metadata": {
    "collapsed": false
   },
   "outputs": [
    {
     "data": {
      "text/plain": [
       "'indices = []\\nfor id in caseid:\\n    indices.append(preg_map[id])\\n'"
      ]
     },
     "execution_count": 141,
     "metadata": {},
     "output_type": "execute_result"
    }
   ],
   "source": [
    "'''indices = []\n",
    "for id in caseid:\n",
    "    indices.append(preg_map[id])\n",
    "'''"
   ]
  },
  {
   "cell_type": "code",
   "execution_count": 142,
   "metadata": {
    "collapsed": false
   },
   "outputs": [
    {
     "ename": "TypeError",
     "evalue": "cannot convert the series to <type 'int'>",
     "output_type": "error",
     "traceback": [
      "\u001b[0;31m---------------------------------------------------------------------------\u001b[0m",
      "\u001b[0;31mTypeError\u001b[0m                                 Traceback (most recent call last)",
      "\u001b[0;32m<ipython-input-142-ade74ec0a132>\u001b[0m in \u001b[0;36m<module>\u001b[0;34m()\u001b[0m\n\u001b[1;32m      1\u001b[0m \u001b[0mdiff\u001b[0m \u001b[0;34m=\u001b[0m \u001b[0;34m[\u001b[0m\u001b[0;34m]\u001b[0m\u001b[0;34m\u001b[0m\u001b[0m\n\u001b[1;32m      2\u001b[0m \u001b[0;32mfor\u001b[0m \u001b[0mid\u001b[0m \u001b[0;32min\u001b[0m \u001b[0mcaseid\u001b[0m\u001b[0;34m:\u001b[0m\u001b[0;34m\u001b[0m\u001b[0m\n\u001b[0;32m----> 3\u001b[0;31m     \u001b[0mdiff\u001b[0m\u001b[0;34m.\u001b[0m\u001b[0mappend\u001b[0m\u001b[0;34m(\u001b[0m\u001b[0mint\u001b[0m\u001b[0;34m(\u001b[0m\u001b[0mfirsts\u001b[0m\u001b[0;34m.\u001b[0m\u001b[0mprglngth\u001b[0m\u001b[0;34m[\u001b[0m\u001b[0mfirsts_map\u001b[0m\u001b[0;34m[\u001b[0m\u001b[0mid\u001b[0m\u001b[0;34m]\u001b[0m\u001b[0;34m]\u001b[0m\u001b[0;34m.\u001b[0m\u001b[0mhead\u001b[0m\u001b[0;34m(\u001b[0m\u001b[0;36m1\u001b[0m\u001b[0;34m)\u001b[0m\u001b[0;34m)\u001b[0m \u001b[0;34m-\u001b[0m \u001b[0mint\u001b[0m\u001b[0;34m(\u001b[0m\u001b[0mothers\u001b[0m\u001b[0;34m.\u001b[0m\u001b[0mprglngth\u001b[0m\u001b[0;34m[\u001b[0m\u001b[0mothers_map\u001b[0m\u001b[0;34m[\u001b[0m\u001b[0mid\u001b[0m\u001b[0;34m]\u001b[0m\u001b[0;34m]\u001b[0m\u001b[0;34m.\u001b[0m\u001b[0mtail\u001b[0m\u001b[0;34m(\u001b[0m\u001b[0;36m1\u001b[0m\u001b[0;34m)\u001b[0m\u001b[0;34m)\u001b[0m\u001b[0;34m)\u001b[0m\u001b[0;34m\u001b[0m\u001b[0m\n\u001b[0m",
      "\u001b[0;32m/Users/CptMorgan/anaconda/lib/python2.7/site-packages/pandas/core/series.pyc\u001b[0m in \u001b[0;36mwrapper\u001b[0;34m(self)\u001b[0m\n\u001b[1;32m     91\u001b[0m             \u001b[0;32mreturn\u001b[0m \u001b[0mconverter\u001b[0m\u001b[0;34m(\u001b[0m\u001b[0mself\u001b[0m\u001b[0;34m.\u001b[0m\u001b[0miloc\u001b[0m\u001b[0;34m[\u001b[0m\u001b[0;36m0\u001b[0m\u001b[0;34m]\u001b[0m\u001b[0;34m)\u001b[0m\u001b[0;34m\u001b[0m\u001b[0m\n\u001b[1;32m     92\u001b[0m         raise TypeError(\"cannot convert the series to \"\n\u001b[0;32m---> 93\u001b[0;31m                         \"{0}\".format(str(converter)))\n\u001b[0m\u001b[1;32m     94\u001b[0m \u001b[0;34m\u001b[0m\u001b[0m\n\u001b[1;32m     95\u001b[0m     \u001b[0;32mreturn\u001b[0m \u001b[0mwrapper\u001b[0m\u001b[0;34m\u001b[0m\u001b[0m\n",
      "\u001b[0;31mTypeError\u001b[0m: cannot convert the series to <type 'int'>"
     ]
    }
   ],
   "source": [
    "diff = []\n",
    "for id in caseid:\n",
    "    diff.append(int(firsts.prglngth[firsts_map[id]].head(1)) - int(others.prglngth[others_map[id]].tail(1)))\n"
   ]
  },
  {
   "cell_type": "code",
   "execution_count": 134,
   "metadata": {
    "collapsed": false
   },
   "outputs": [
    {
     "data": {
      "text/plain": [
       "0"
      ]
     },
     "execution_count": 134,
     "metadata": {},
     "output_type": "execute_result"
    }
   ],
   "source": []
  },
  {
   "cell_type": "code",
   "execution_count": null,
   "metadata": {
    "collapsed": false
   },
   "outputs": [],
   "source": []
  },
  {
   "cell_type": "code",
   "execution_count": 101,
   "metadata": {
    "collapsed": false
   },
   "outputs": [
    {
     "data": {
      "text/plain": [
       "13588    12571\n",
       "13591    12571\n",
       "13592    12571\n",
       "Name: caseid, dtype: int64"
      ]
     },
     "execution_count": 101,
     "metadata": {},
     "output_type": "execute_result"
    }
   ],
   "source": [
    "live.caseid[preg_map[id]]\n"
   ]
  },
  {
   "cell_type": "code",
   "execution_count": 103,
   "metadata": {
    "collapsed": false
   },
   "outputs": [
    {
     "data": {
      "text/plain": [
       "[[11, 12],\n",
       " [15, 16],\n",
       " [17],\n",
       " [21],\n",
       " [31],\n",
       " [35],\n",
       " [39, 40],\n",
       " [39, 40],\n",
       " [],\n",
       " [44, 47],\n",
       " [44, 47],\n",
       " [48, 49],\n",
       " [],\n",
       " [58, 59],\n",
       " [62, 64],\n",
       " [62, 64],\n",
       " [67],\n",
       " [72, 74, 75, 76],\n",
       " [82],\n",
       " [83, 87, 88, 89],\n",
       " [83, 87, 88, 89],\n",
       " [83, 87, 88, 89],\n",
       " [94],\n",
       " [],\n",
       " [],\n",
       " [110],\n",
       " [],\n",
       " [113],\n",
       " [],\n",
       " [],\n",
       " [124, 126, 127, 129],\n",
       " [124, 126, 127, 129],\n",
       " [140, 142, 143],\n",
       " [140, 142, 143],\n",
       " [140, 142, 143],\n",
       " [140, 142, 143],\n",
       " [154, 155, 156],\n",
       " [154, 155, 156],\n",
       " [170, 171, 172, 174],\n",
       " [],\n",
       " [180, 181, 182],\n",
       " [184, 185],\n",
       " [188, 190],\n",
       " [191],\n",
       " [],\n",
       " [],\n",
       " [],\n",
       " [],\n",
       " [],\n",
       " [],\n",
       " [],\n",
       " [],\n",
       " [],\n",
       " [],\n",
       " [222],\n",
       " [226, 228],\n",
       " [229, 230],\n",
       " [229, 230],\n",
       " [237, 238],\n",
       " [237, 238],\n",
       " [245, 246],\n",
       " [245, 246],\n",
       " [245, 246],\n",
       " [251, 252],\n",
       " [253, 256],\n",
       " [253, 256],\n",
       " [253, 256],\n",
       " [267, 268, 269, 270, 271, 272, 273],\n",
       " [282],\n",
       " [],\n",
       " [],\n",
       " [],\n",
       " [],\n",
       " [],\n",
       " [],\n",
       " [],\n",
       " [],\n",
       " [],\n",
       " [305],\n",
       " [305],\n",
       " [305],\n",
       " [305],\n",
       " [305],\n",
       " [306],\n",
       " [311, 313],\n",
       " [311, 313],\n",
       " [311, 313],\n",
       " [311, 313],\n",
       " [321, 322],\n",
       " [321, 322],\n",
       " [330, 334],\n",
       " [330, 334],\n",
       " [330, 334],\n",
       " [338],\n",
       " [341, 343, 346],\n",
       " [341, 343, 346],\n",
       " [341, 343, 346],\n",
       " [354, 356],\n",
       " [365, 366, 367],\n",
       " [374],\n",
       " [374],\n",
       " [377, 378],\n",
       " [377, 378],\n",
       " [385, 386, 388],\n",
       " [389, 392, 393],\n",
       " [389, 392, 393],\n",
       " [389, 392, 393],\n",
       " [398, 399],\n",
       " [398, 399],\n",
       " [402],\n",
       " [402],\n",
       " [404, 405],\n",
       " [404, 405],\n",
       " [408, 409, 410],\n",
       " [411, 413],\n",
       " [],\n",
       " [],\n",
       " [],\n",
       " [],\n",
       " [421],\n",
       " [],\n",
       " [423, 428, 429],\n",
       " [423, 428, 429],\n",
       " [423, 428, 429],\n",
       " [423, 428, 429],\n",
       " [423, 428, 429],\n",
       " [423, 428, 429],\n",
       " [423, 428, 429],\n",
       " [433, 435, 436, 437],\n",
       " [440, 441],\n",
       " [443, 444],\n",
       " [443, 444],\n",
       " [443, 444],\n",
       " [],\n",
       " [451],\n",
       " [452],\n",
       " [],\n",
       " [458],\n",
       " [458],\n",
       " [461],\n",
       " [461],\n",
       " [463, 464, 465, 466],\n",
       " [470, 473, 474],\n",
       " [470, 473, 474],\n",
       " [470, 473, 474],\n",
       " [477, 478],\n",
       " [],\n",
       " [481],\n",
       " [],\n",
       " [],\n",
       " [],\n",
       " [487, 488, 489],\n",
       " [],\n",
       " [],\n",
       " [],\n",
       " [],\n",
       " [514, 515],\n",
       " [514, 515],\n",
       " [517, 518],\n",
       " [521, 523],\n",
       " [],\n",
       " [530, 532],\n",
       " [530, 532],\n",
       " [540, 541, 542],\n",
       " [540, 541, 542],\n",
       " [540, 541, 542],\n",
       " [546, 547, 548],\n",
       " [546, 547, 548],\n",
       " [],\n",
       " [554, 556],\n",
       " [554, 556],\n",
       " [554, 556],\n",
       " [559],\n",
       " [567, 570],\n",
       " [567, 570],\n",
       " [],\n",
       " [],\n",
       " [574, 576],\n",
       " [582],\n",
       " [584, 585],\n",
       " [],\n",
       " [590],\n",
       " [590],\n",
       " [594, 595],\n",
       " [],\n",
       " [599, 601],\n",
       " [602, 603],\n",
       " [606, 609, 610],\n",
       " [606, 609, 610],\n",
       " [606, 609, 610],\n",
       " [606, 609, 610],\n",
       " [613],\n",
       " [],\n",
       " [],\n",
       " [],\n",
       " [630, 631, 633],\n",
       " [],\n",
       " [639, 640, 641],\n",
       " [644],\n",
       " [647, 648, 649, 650, 651],\n",
       " [647, 648, 649, 650, 651],\n",
       " [647, 648, 649, 650, 651],\n",
       " [647, 648, 649, 650, 651],\n",
       " [647, 648, 649, 650, 651],\n",
       " [664, 665],\n",
       " [],\n",
       " [669],\n",
       " [],\n",
       " [676, 677],\n",
       " [676, 677],\n",
       " [680, 681, 682, 683, 684, 685, 687, 688],\n",
       " [689, 690, 691],\n",
       " [697],\n",
       " [697],\n",
       " [699, 700],\n",
       " [703, 704],\n",
       " [713],\n",
       " [713],\n",
       " [716, 717],\n",
       " [],\n",
       " [],\n",
       " [725],\n",
       " [727, 728],\n",
       " [734],\n",
       " [734],\n",
       " [734],\n",
       " [734],\n",
       " [],\n",
       " [747, 749],\n",
       " [],\n",
       " [751, 753, 754, 755],\n",
       " [756, 757, 760, 761, 762, 763],\n",
       " [756, 757, 760, 761, 762, 763],\n",
       " [772, 774],\n",
       " [772, 774],\n",
       " [772, 774],\n",
       " [784],\n",
       " [785, 786],\n",
       " [792],\n",
       " [792],\n",
       " [792],\n",
       " [792],\n",
       " [795, 796],\n",
       " [802],\n",
       " [],\n",
       " [804, 805, 807],\n",
       " [816, 817],\n",
       " [819],\n",
       " [819],\n",
       " [822, 823, 824],\n",
       " [826, 828],\n",
       " [826, 828],\n",
       " [832, 833],\n",
       " [832, 833],\n",
       " [832, 833],\n",
       " [],\n",
       " [],\n",
       " [],\n",
       " [],\n",
       " [],\n",
       " [842],\n",
       " [845],\n",
       " [848],\n",
       " [851, 853],\n",
       " [859],\n",
       " [861],\n",
       " [863],\n",
       " [864],\n",
       " [],\n",
       " [],\n",
       " [885, 887],\n",
       " [885, 887],\n",
       " [885, 887],\n",
       " [893, 894, 895],\n",
       " [896, 897],\n",
       " [896, 897],\n",
       " [905],\n",
       " [907],\n",
       " [907],\n",
       " [917, 919],\n",
       " [917, 919],\n",
       " [917, 919],\n",
       " [917, 919],\n",
       " [917, 919],\n",
       " [],\n",
       " [928, 929],\n",
       " [936, 937, 938, 939, 940, 941],\n",
       " [936, 937, 938, 939, 940, 941],\n",
       " [950, 951, 952, 953],\n",
       " [956, 957, 958, 959],\n",
       " [965, 967, 968],\n",
       " [],\n",
       " [],\n",
       " [],\n",
       " [],\n",
       " [984, 985],\n",
       " [991, 992],\n",
       " [994],\n",
       " [998, 1000],\n",
       " [998, 1000],\n",
       " [998, 1000],\n",
       " [1002],\n",
       " [1006, 1007, 1009],\n",
       " [1006, 1007, 1009],\n",
       " [],\n",
       " [1013],\n",
       " [1016],\n",
       " [1021, 1022],\n",
       " [1021, 1022],\n",
       " [1027, 1028, 1029, 1030],\n",
       " [],\n",
       " [1041],\n",
       " [1042, 1044],\n",
       " [1048, 1050],\n",
       " [1048, 1050],\n",
       " [],\n",
       " [],\n",
       " [],\n",
       " [],\n",
       " [],\n",
       " [1057],\n",
       " [1057],\n",
       " [],\n",
       " [1067, 1068, 1070],\n",
       " [1067, 1068, 1070],\n",
       " [],\n",
       " [],\n",
       " [1075],\n",
       " [1084],\n",
       " [1084],\n",
       " [1084],\n",
       " [1084],\n",
       " [1094, 1095, 1096],\n",
       " [1098, 1100, 1102],\n",
       " [1098, 1100, 1102],\n",
       " [1112, 1113, 1114],\n",
       " [1112, 1113, 1114],\n",
       " [1112, 1113, 1114],\n",
       " [1112, 1113, 1114],\n",
       " [1112, 1113, 1114],\n",
       " [1112, 1113, 1114],\n",
       " [1118],\n",
       " [1125],\n",
       " [1125],\n",
       " [1126, 1127, 1129],\n",
       " [1133, 1134],\n",
       " [1133, 1134],\n",
       " [],\n",
       " [],\n",
       " [],\n",
       " [1142, 1144],\n",
       " [1142, 1144],\n",
       " [1145, 1147, 1148],\n",
       " [1151],\n",
       " [1152],\n",
       " [1152],\n",
       " [1156],\n",
       " [],\n",
       " [],\n",
       " [],\n",
       " [1160, 1161],\n",
       " [1165, 1166, 1167, 1168, 1169],\n",
       " [1165, 1166, 1167, 1168, 1169],\n",
       " [1165, 1166, 1167, 1168, 1169],\n",
       " [],\n",
       " [],\n",
       " [],\n",
       " [1182],\n",
       " [1192],\n",
       " [1192],\n",
       " [1192],\n",
       " [],\n",
       " [1200, 1203],\n",
       " [1200, 1203],\n",
       " [1200, 1203],\n",
       " [1205],\n",
       " [1205],\n",
       " [1210, 1212, 1213, 1214, 1215],\n",
       " [1217],\n",
       " [1218, 1219, 1220],\n",
       " [1222, 1226],\n",
       " [1222, 1226],\n",
       " [1222, 1226],\n",
       " [1222, 1226],\n",
       " [1229, 1231],\n",
       " [1233, 1235],\n",
       " [1233, 1235],\n",
       " [1238],\n",
       " [1242, 1243, 1244],\n",
       " [1245, 1246, 1247],\n",
       " [1245, 1246, 1247],\n",
       " [1245, 1246, 1247],\n",
       " [],\n",
       " [1253, 1256],\n",
       " [1253, 1256],\n",
       " [1260, 1262],\n",
       " [1265],\n",
       " [],\n",
       " [],\n",
       " [],\n",
       " [],\n",
       " [],\n",
       " [1274, 1276],\n",
       " [1282],\n",
       " [1289, 1290, 1291],\n",
       " [1299],\n",
       " [1302],\n",
       " [1305],\n",
       " [1305],\n",
       " [1307],\n",
       " [],\n",
       " [1309, 1310, 1311, 1312, 1314, 1315, 1316, 1317, 1318, 1319],\n",
       " [1324],\n",
       " [1324],\n",
       " [],\n",
       " [],\n",
       " [1330, 1332],\n",
       " [1333, 1335],\n",
       " [1333, 1335],\n",
       " [1337, 1338, 1339],\n",
       " [1337, 1338, 1339],\n",
       " [1343],\n",
       " [],\n",
       " [1357, 1359],\n",
       " [1357, 1359],\n",
       " [1357, 1359],\n",
       " [1357, 1359],\n",
       " [1365, 1366, 1367, 1368, 1370],\n",
       " [1365, 1366, 1367, 1368, 1370],\n",
       " [1365, 1366, 1367, 1368, 1370],\n",
       " [1365, 1366, 1367, 1368, 1370],\n",
       " [1372],\n",
       " [1376, 1377, 1378],\n",
       " [1376, 1377, 1378],\n",
       " [1381],\n",
       " [1381],\n",
       " [1388, 1389],\n",
       " [1393],\n",
       " [1395],\n",
       " [1397, 1399],\n",
       " [1397, 1399],\n",
       " [1400, 1401],\n",
       " [1403, 1404, 1405],\n",
       " [],\n",
       " [1412, 1413],\n",
       " [1412, 1413],\n",
       " [1416, 1418, 1419],\n",
       " [],\n",
       " [1421, 1422],\n",
       " [1421, 1422],\n",
       " [1426, 1428],\n",
       " [1426, 1428],\n",
       " [1429, 1431, 1433],\n",
       " [1429, 1431, 1433],\n",
       " [1435, 1436, 1437],\n",
       " [1439, 1440, 1441, 1443],\n",
       " [1439, 1440, 1441, 1443],\n",
       " [1446, 1447],\n",
       " [1453, 1455],\n",
       " [1456, 1457, 1458],\n",
       " [1466, 1467],\n",
       " [1466, 1467],\n",
       " [1469],\n",
       " [],\n",
       " [],\n",
       " [],\n",
       " [1477],\n",
       " [1477],\n",
       " [1481, 1482],\n",
       " [1485, 1486, 1488],\n",
       " [1492],\n",
       " [1494, 1495],\n",
       " [1496, 1498, 1499],\n",
       " [1507, 1509],\n",
       " [1507, 1509],\n",
       " [],\n",
       " [],\n",
       " [1513, 1515],\n",
       " [1516, 1518, 1519],\n",
       " [1526, 1527, 1529],\n",
       " [1526, 1527, 1529],\n",
       " [],\n",
       " [1532, 1534],\n",
       " [1532, 1534],\n",
       " [1532, 1534],\n",
       " [],\n",
       " [],\n",
       " [1538, 1539, 1540, 1542],\n",
       " [],\n",
       " [],\n",
       " [],\n",
       " [],\n",
       " [1557],\n",
       " [1563, 1565, 1566],\n",
       " [1584],\n",
       " [1586],\n",
       " [1586],\n",
       " [1589, 1590, 1591],\n",
       " [1605],\n",
       " [1605],\n",
       " [1606],\n",
       " [1609, 1610],\n",
       " [1609, 1610],\n",
       " [],\n",
       " [],\n",
       " [1617, 1618, 1619],\n",
       " [1629, 1632],\n",
       " [1629, 1632],\n",
       " [1633, 1635, 1636, 1637, 1638],\n",
       " [1645],\n",
       " [],\n",
       " [1650, 1652, 1654],\n",
       " [1650, 1652, 1654],\n",
       " [1655, 1657, 1658, 1659],\n",
       " [1660],\n",
       " [1666],\n",
       " [1666],\n",
       " [1666],\n",
       " [1672, 1673, 1674, 1675],\n",
       " [1681, 1682],\n",
       " [1681, 1682],\n",
       " [1681, 1682],\n",
       " [1688],\n",
       " [1688],\n",
       " [1699],\n",
       " [1699],\n",
       " [1703, 1704, 1705, 1706],\n",
       " [],\n",
       " [],\n",
       " [],\n",
       " [],\n",
       " [1716],\n",
       " [],\n",
       " [],\n",
       " [1729],\n",
       " [1731, 1733, 1734],\n",
       " [1731, 1733, 1734],\n",
       " [1738, 1739],\n",
       " [1738, 1739],\n",
       " [1752, 1754],\n",
       " [1756, 1757, 1758],\n",
       " [1760],\n",
       " [1760],\n",
       " [1766, 1767, 1768],\n",
       " [1773],\n",
       " [1773],\n",
       " [1773],\n",
       " [1773],\n",
       " [1773],\n",
       " [1773],\n",
       " [1780, 1785, 1790],\n",
       " [1780, 1785, 1790],\n",
       " [1780, 1785, 1790],\n",
       " [1780, 1785, 1790],\n",
       " [1780, 1785, 1790],\n",
       " [1780, 1785, 1790],\n",
       " [1780, 1785, 1790],\n",
       " [1780, 1785, 1790],\n",
       " [1780, 1785, 1790],\n",
       " [1795, 1796, 1797, 1798],\n",
       " [1801, 1802, 1803, 1804, 1805, 1806, 1807],\n",
       " [1808, 1809, 1810],\n",
       " [1816, 1817],\n",
       " [1816, 1817],\n",
       " [1818, 1819],\n",
       " [1825, 1826, 1827],\n",
       " [1829],\n",
       " [],\n",
       " [1831, 1833, 1834],\n",
       " [1831, 1833, 1834],\n",
       " [1831, 1833, 1834],\n",
       " [],\n",
       " [],\n",
       " [1840, 1841],\n",
       " [1846],\n",
       " [1847, 1849],\n",
       " [1851, 1852, 1853, 1855],\n",
       " [1851, 1852, 1853, 1855],\n",
       " [1851, 1852, 1853, 1855],\n",
       " [1851, 1852, 1853, 1855],\n",
       " [1860, 1862, 1863, 1864, 1865],\n",
       " [1867, 1868],\n",
       " [1870],\n",
       " [1874],\n",
       " [1874],\n",
       " [],\n",
       " [1877],\n",
       " [1877],\n",
       " [1883],\n",
       " [1885],\n",
       " [1888, 1890],\n",
       " [1888, 1890],\n",
       " [1901, 1902, 1903],\n",
       " [1908],\n",
       " [1911, 1912, 1913, 1914, 1915, 1916],\n",
       " [],\n",
       " [],\n",
       " [1923],\n",
       " [],\n",
       " [1926, 1928],\n",
       " [1926, 1928],\n",
       " [1926, 1928],\n",
       " [],\n",
       " [],\n",
       " [1939],\n",
       " [1939],\n",
       " [1939],\n",
       " [1939],\n",
       " [1941, 1944],\n",
       " [1941, 1944],\n",
       " [1941, 1944],\n",
       " [],\n",
       " [1947],\n",
       " [1950, 1951, 1952, 1953],\n",
       " [1950, 1951, 1952, 1953],\n",
       " [1955, 1956, 1957],\n",
       " [1959, 1961],\n",
       " [1963, 1964],\n",
       " [1967, 1968, 1969, 1970, 1971],\n",
       " [1972, 1974],\n",
       " [1972, 1974],\n",
       " [1977],\n",
       " [1981, 1983],\n",
       " [],\n",
       " [1988, 1989],\n",
       " [1992, 1994, 1997, 1998],\n",
       " [1992, 1994, 1997, 1998],\n",
       " [1992, 1994, 1997, 1998],\n",
       " [1992, 1994, 1997, 1998],\n",
       " [1992, 1994, 1997, 1998],\n",
       " [],\n",
       " [],\n",
       " [2010, 2012, 2013, 2014],\n",
       " [2021, 2022, 2024, 2025, 2026, 2027],\n",
       " [2021, 2022, 2024, 2025, 2026, 2027],\n",
       " [],\n",
       " [],\n",
       " [],\n",
       " [2033],\n",
       " [2033],\n",
       " [2035],\n",
       " [2036, 2037, 2038],\n",
       " [],\n",
       " [2045],\n",
       " [2045],\n",
       " [2050, 2052],\n",
       " [2055, 2062, 2063],\n",
       " [2055, 2062, 2063],\n",
       " [2055, 2062, 2063],\n",
       " [2055, 2062, 2063],\n",
       " [2055, 2062, 2063],\n",
       " [2055, 2062, 2063],\n",
       " [],\n",
       " [],\n",
       " [],\n",
       " [2069, 2070],\n",
       " [2075, 2076],\n",
       " [2079, 2080],\n",
       " [2079, 2080],\n",
       " [2084, 2086],\n",
       " [2084, 2086],\n",
       " [2087],\n",
       " [2094],\n",
       " [2096],\n",
       " [2105, 2106, 2107],\n",
       " [2105, 2106, 2107],\n",
       " [2108, 2110],\n",
       " [2108, 2110],\n",
       " [],\n",
       " [2120],\n",
       " [],\n",
       " [2122, 2123, 2126],\n",
       " [2122, 2123, 2126],\n",
       " [],\n",
       " [2129],\n",
       " [2133, 2134],\n",
       " [2133, 2134],\n",
       " [2136, 2137],\n",
       " [2145, 2147],\n",
       " [2145, 2147],\n",
       " [2145, 2147],\n",
       " [2145, 2147],\n",
       " [2154, 2157],\n",
       " [2154, 2157],\n",
       " [],\n",
       " [],\n",
       " [],\n",
       " [],\n",
       " [2178, 2180],\n",
       " [2183, 2185, 2186],\n",
       " [2183, 2185, 2186],\n",
       " [],\n",
       " [],\n",
       " [2194, 2196, 2197, 2198],\n",
       " [2194, 2196, 2197, 2198],\n",
       " [2194, 2196, 2197, 2198],\n",
       " [2194, 2196, 2197, 2198],\n",
       " [],\n",
       " [2211, 2212, 2213, 2214],\n",
       " [2217, 2218],\n",
       " [2217, 2218],\n",
       " [],\n",
       " [],\n",
       " [],\n",
       " [],\n",
       " [2227, 2228],\n",
       " [2232, 2233],\n",
       " [2237],\n",
       " [2238, 2239],\n",
       " [],\n",
       " [],\n",
       " [2248, 2250, 2251],\n",
       " [2248, 2250, 2251],\n",
       " [2256],\n",
       " [2256],\n",
       " [2258, 2260],\n",
       " [2271, 2272],\n",
       " [2276],\n",
       " [2276],\n",
       " [2279, 2280],\n",
       " [2282, 2283],\n",
       " [2288, 2289, 2290, 2292],\n",
       " [2293, 2294],\n",
       " [2297, 2298],\n",
       " [],\n",
       " [2303, 2304],\n",
       " [2303, 2304],\n",
       " [2303, 2304],\n",
       " [2310, 2311, 2314],\n",
       " [2310, 2311, 2314],\n",
       " [2316, 2317, 2318],\n",
       " [2322, 2323, 2326],\n",
       " [2322, 2323, 2326],\n",
       " [2335, 2338],\n",
       " [2335, 2338],\n",
       " [2339],\n",
       " [2339],\n",
       " [2343],\n",
       " [2346],\n",
       " [2351],\n",
       " [],\n",
       " [],\n",
       " [],\n",
       " [],\n",
       " [2363],\n",
       " [2366, 2367, 2369],\n",
       " [2366, 2367, 2369],\n",
       " [2373, 2374, 2376, 2377],\n",
       " [2379, 2381],\n",
       " [2382],\n",
       " [2385, 2388],\n",
       " [2385, 2388],\n",
       " [2385, 2388],\n",
       " [2385, 2388],\n",
       " [2385, 2388],\n",
       " [2385, 2388],\n",
       " [2385, 2388],\n",
       " [2395, 2396],\n",
       " [2398],\n",
       " [2398],\n",
       " [2403, 2405],\n",
       " [2403, 2405],\n",
       " [2403, 2405],\n",
       " [2403, 2405],\n",
       " [2403, 2405],\n",
       " [2409, 2410],\n",
       " [2412, 2413],\n",
       " [2416, 2417],\n",
       " [2416, 2417],\n",
       " [2418],\n",
       " [2421, 2423],\n",
       " [2421, 2423],\n",
       " [],\n",
       " [],\n",
       " [2430],\n",
       " [2432],\n",
       " [2432],\n",
       " [2435],\n",
       " [2437],\n",
       " [2443, 2444, 2446],\n",
       " [2448, 2449, 2450, 2451, 2452, 2453],\n",
       " [2457],\n",
       " [2459, 2460],\n",
       " [2459, 2460],\n",
       " [2470, 2471],\n",
       " [2476, 2478],\n",
       " [2476, 2478],\n",
       " [2485, 2487, 2489, 2490, 2493, 2495],\n",
       " [2485, 2487, 2489, 2490, 2493, 2495],\n",
       " [2485, 2487, 2489, 2490, 2493, 2495],\n",
       " [2485, 2487, 2489, 2490, 2493, 2495],\n",
       " [2485, 2487, 2489, 2490, 2493, 2495],\n",
       " [2485, 2487, 2489, 2490, 2493, 2495],\n",
       " [],\n",
       " [],\n",
       " [],\n",
       " [2515, 2516, 2518],\n",
       " [2523, 2524],\n",
       " [],\n",
       " [],\n",
       " [2531, 2533],\n",
       " [2541, 2542, 2543, 2544],\n",
       " [2554],\n",
       " [2561],\n",
       " [2561],\n",
       " [2564],\n",
       " [2564],\n",
       " [2576],\n",
       " [2576],\n",
       " [2576],\n",
       " [2576],\n",
       " [2576],\n",
       " [2576],\n",
       " [2576],\n",
       " [2576],\n",
       " [2576],\n",
       " [],\n",
       " [2586],\n",
       " [],\n",
       " [],\n",
       " [2590, 2591, 2592],\n",
       " [2590, 2591, 2592],\n",
       " [2595, 2596, 2597],\n",
       " [2601, 2602, 2603, 2604, 2605],\n",
       " [2608],\n",
       " [2608],\n",
       " [2616, 2617, 2618],\n",
       " [2616, 2617, 2618],\n",
       " [2621, 2622],\n",
       " [2625, 2626],\n",
       " [2630],\n",
       " [2630],\n",
       " [2630],\n",
       " [2632, 2633],\n",
       " [2632, 2633],\n",
       " [2632, 2633],\n",
       " [2640, 2642],\n",
       " [2640, 2642],\n",
       " [],\n",
       " [2653, 2654],\n",
       " [],\n",
       " [2656, 2657, 2658],\n",
       " [2661, 2662],\n",
       " [2661, 2662],\n",
       " [2666, 2668, 2670],\n",
       " [2666, 2668, 2670],\n",
       " [2672, 2673],\n",
       " [],\n",
       " [],\n",
       " [],\n",
       " [],\n",
       " [],\n",
       " [],\n",
       " [],\n",
       " [2698, 2699, 2700],\n",
       " [2703, 2704],\n",
       " [],\n",
       " [],\n",
       " [],\n",
       " [2723, 2725],\n",
       " [],\n",
       " [2730],\n",
       " [2730],\n",
       " [2730],\n",
       " [2731, 2732, 2733, 2734, 2737, 2738, 2739],\n",
       " [2731, 2732, 2733, 2734, 2737, 2738, 2739],\n",
       " [2741, 2742, 2743, 2745],\n",
       " [],\n",
       " [2753, 2754],\n",
       " [2756, 2757, 2758],\n",
       " [],\n",
       " [2765],\n",
       " [2769, 2770],\n",
       " [2769, 2770],\n",
       " [2771, 2772],\n",
       " [],\n",
       " [],\n",
       " [],\n",
       " [2783],\n",
       " [2783],\n",
       " [2797, 2798],\n",
       " [2797, 2798],\n",
       " [2797, 2798],\n",
       " [2797, 2798],\n",
       " [2801],\n",
       " [2801],\n",
       " [2806, 2807, 2808, 2809],\n",
       " [2810, 2812, 2813, 2814, 2815],\n",
       " [2816, 2818],\n",
       " [2822, 2823],\n",
       " [2826, 2827],\n",
       " [],\n",
       " [2840],\n",
       " [2843, 2844],\n",
       " [],\n",
       " [],\n",
       " [],\n",
       " [2848],\n",
       " [2848],\n",
       " [2857, 2859],\n",
       " [],\n",
       " [],\n",
       " [],\n",
       " [],\n",
       " [2876, 2877],\n",
       " [2880, 2881, 2882],\n",
       " [2880, 2881, 2882],\n",
       " [],\n",
       " [],\n",
       " [2891],\n",
       " [2891],\n",
       " [2894, 2896],\n",
       " [2894, 2896],\n",
       " [2898, 2899, 2900, 2901],\n",
       " [2902, 2903, 2904],\n",
       " [2906, 2908],\n",
       " [],\n",
       " [],\n",
       " [2913, 2914],\n",
       " [],\n",
       " [2923, 2925, 2926],\n",
       " [2923, 2925, 2926],\n",
       " [],\n",
       " [2930, 2931, 2932],\n",
       " [2937, 2939, 2941],\n",
       " [2937, 2939, 2941],\n",
       " [2944],\n",
       " [2949],\n",
       " [2949],\n",
       " [2953],\n",
       " [2953],\n",
       " [2953],\n",
       " [2953],\n",
       " [2953],\n",
       " [2956, 2957, 2958, 2960, 2961],\n",
       " [],\n",
       " [],\n",
       " [],\n",
       " [],\n",
       " [],\n",
       " [2968, 2969],\n",
       " [2968, 2969],\n",
       " [2971],\n",
       " [2971],\n",
       " [2977, 2980, 2981, 2983],\n",
       " [2977, 2980, 2981, 2983],\n",
       " [2977, 2980, 2981, 2983],\n",
       " [2993],\n",
       " [2993],\n",
       " [2996, 2998],\n",
       " [3001],\n",
       " [3001],\n",
       " [3001],\n",
       " [3001],\n",
       " [3017, 3018, 3019, 3020, 3021, 3022, 3023],\n",
       " [3017, 3018, 3019, 3020, 3021, 3022, 3023],\n",
       " [3017, 3018, 3019, 3020, 3021, 3022, 3023],\n",
       " [],\n",
       " [3037],\n",
       " [3037],\n",
       " [],\n",
       " [],\n",
       " [],\n",
       " [3042, 3043],\n",
       " [3047, 3048],\n",
       " [],\n",
       " [3050, 3051],\n",
       " [3053, 3054],\n",
       " [3058, 3060],\n",
       " [3065],\n",
       " [3065],\n",
       " [3068, 3069, 3070],\n",
       " [3072, 3073, 3074],\n",
       " [3080, 3083, 3084],\n",
       " [3080, 3083, 3084],\n",
       " [3085, 3086, 3089, 3090, 3091],\n",
       " [3085, 3086, 3089, 3090, 3091],\n",
       " [],\n",
       " [],\n",
       " [],\n",
       " [3098, 3100, 3101, 3102],\n",
       " [3098, 3100, 3101, 3102],\n",
       " [3098, 3100, 3101, 3102],\n",
       " [3110],\n",
       " [3112],\n",
       " [3114, 3115],\n",
       " [3116, 3119],\n",
       " [3116, 3119],\n",
       " [],\n",
       " [3122, 3124],\n",
       " [3122, 3124],\n",
       " [3126, 3128],\n",
       " [],\n",
       " [3131, 3132, 3134],\n",
       " [],\n",
       " [3138],\n",
       " [],\n",
       " [],\n",
       " [3154],\n",
       " [3154],\n",
       " ...]"
      ]
     },
     "execution_count": 103,
     "metadata": {},
     "output_type": "execute_result"
    }
   ],
   "source": [
    "indices"
   ]
  },
  {
   "cell_type": "markdown",
   "metadata": {},
   "source": [
    "**Exercise:** In most foot races, everyone starts at the same time. If you are a fast runner, you usually pass a lot of people at the beginning of the race, but after a few miles everyone around you is going at the same speed.\n",
    "When I ran a long-distance (209 miles) relay race for the first time, I noticed an odd phenomenon: when I overtook another runner, I was usually much faster, and when another runner overtook me, he was usually much faster.\n",
    "\n",
    "At first I thought that the distribution of speeds might be bimodal; that is, there were many slow runners and many fast runners, but few at my speed.\n",
    "\n",
    "Then I realized that I was the victim of a bias similar to the effect of class size. The race was unusual in two ways: it used a staggered start, so teams started at different times; also, many teams included runners at different levels of ability.\n",
    "\n",
    "As a result, runners were spread out along the course with little relationship between speed and location. When I joined the race, the runners near me were (pretty much) a random sample of the runners in the race.\n",
    "\n",
    "So where does the bias come from? During my time on the course, the chance of overtaking a runner, or being overtaken, is proportional to the difference in our speeds. I am more likely to catch a slow runner, and more likely to be caught by a fast runner. But runners at the same speed are unlikely to see each other.\n",
    "\n",
    "Write a function called `ObservedPmf` that takes a `Pmf` representing the actual distribution of runners’ speeds, and the speed of a running observer, and returns a new `Pmf` representing the distribution of runners’ speeds as seen by the observer.\n",
    "\n",
    "To test your function, you can use `relay.py`, which reads the results from the James Joyce Ramble 10K in Dedham MA and converts the pace of each runner to mph.\n",
    "\n",
    "Compute the distribution of speeds you would observe if you ran a relay race at 7 mph with this group of runners."
   ]
  },
  {
   "cell_type": "code",
   "execution_count": 48,
   "metadata": {
    "collapsed": false
   },
   "outputs": [],
   "source": [
    "import relay\n",
    "\n",
    "results = relay.ReadResults()\n",
    "speeds = relay.GetSpeeds(results)\n",
    "speeds = relay.BinData(speeds, 3, 12, 100)"
   ]
  },
  {
   "cell_type": "code",
   "execution_count": 49,
   "metadata": {
    "collapsed": false
   },
   "outputs": [
    {
     "data": {
      "image/png": "[encoded data removed]",
      "text/plain": [
       "<matplotlib.figure.Figure at 0x1166eed10>"
      ]
     },
     "metadata": {},
     "output_type": "display_data"
    }
   ],
   "source": [
    "pmf = thinkstats2.Pmf(speeds, 'actual speeds')\n",
    "thinkplot.Pmf(pmf)\n",
    "thinkplot.Config(xlabel='Speed (mph)', ylabel='PMF')"
   ]
  },
  {
   "cell_type": "code",
   "execution_count": 50,
   "metadata": {
    "collapsed": true
   },
   "outputs": [],
   "source": [
    "# Solution goes here"
   ]
  },
  {
   "cell_type": "code",
   "execution_count": 51,
   "metadata": {
    "collapsed": false
   },
   "outputs": [],
   "source": [
    "# Solution goes here"
   ]
  },
  {
   "cell_type": "code",
   "execution_count": null,
   "metadata": {
    "collapsed": true
   },
   "outputs": [],
   "source": []
  }
 ],
 "metadata": {
  "kernelspec": {
   "display_name": "Python 2",
   "language": "python",
   "name": "python2"
  },
  "language_info": {
   "codemirror_mode": {
    "name": "ipython",
    "version": 2
   },
   "file_extension": ".py",
   "mimetype": "text/x-python",
   "name": "python",
   "nbconvert_exporter": "python",
   "pygments_lexer": "ipython2",
   "version": "2.7.13"
  }
 },
 "nbformat": 4,
 "nbformat_minor": 0
}
